{
 "cells": [
  {
   "cell_type": "code",
   "execution_count": 1,
   "id": "6e6105a5-5941-4ead-8b90-b32c6b35f3db",
   "metadata": {
    "execution": {
     "iopub.execute_input": "2024-05-15T15:16:51.540942Z",
     "iopub.status.busy": "2024-05-15T15:16:51.540730Z",
     "iopub.status.idle": "2024-05-15T15:16:51.553480Z",
     "shell.execute_reply": "2024-05-15T15:16:51.552642Z",
     "shell.execute_reply.started": "2024-05-15T15:16:51.540920Z"
    }
   },
   "outputs": [
    {
     "data": {
      "text/html": [
       "\n",
       "<script src=\"https://cdnjs.cloudflare.com/ajax/libs/jquery/2.0.3/\n",
       "jquery.min.js \"></script>\n",
       "<script>\n",
       "code_show=true; \n",
       "function code_toggle() {\n",
       " if (code_show){\n",
       " $('div.jp-CodeCell > div.jp-Cell-inputWrapper').hide();\n",
       " } else {\n",
       " $('div.jp-CodeCell > div.jp-Cell-inputWrapper').show();\n",
       " }\n",
       " code_show = !code_show\n",
       "} \n",
       "$( document ).ready(code_toggle);\n",
       "</script>\n",
       "<form action=\"javascript:code_toggle()\"><input type=\"submit\"\n",
       "    value=\"Click here to toggle on/off the raw code.\"></form>\n"
      ],
      "text/plain": [
       "<IPython.core.display.HTML object>"
      ]
     },
     "execution_count": 1,
     "metadata": {},
     "output_type": "execute_result"
    }
   ],
   "source": [
    "from IPython.display import Image, display, HTML\n",
    "\n",
    "HTML(\n",
    "    \"\"\"\n",
    "<script src=\"https://cdnjs.cloudflare.com/ajax/libs/jquery/2.0.3/\n",
    "jquery.min.js \"></script>\n",
    "<script>\n",
    "code_show=true; \n",
    "function code_toggle() {\n",
    " if (code_show){\n",
    " $('div.jp-CodeCell > div.jp-Cell-inputWrapper').hide();\n",
    " } else {\n",
    " $('div.jp-CodeCell > div.jp-Cell-inputWrapper').show();\n",
    " }\n",
    " code_show = !code_show\n",
    "} \n",
    "$( document ).ready(code_toggle);\n",
    "</script>\n",
    "<form action=\"javascript:code_toggle()\"><input type=\"submit\"\n",
    "    value=\"Click here to toggle on/off the raw code.\"></form>\n",
    "\"\"\"\n",
    ")"
   ]
  },
  {
   "cell_type": "markdown",
   "id": "3f48348d-79db-49f1-89d5-c1ed4648d177",
   "metadata": {
    "execution": {
     "iopub.execute_input": "2024-05-15T05:45:43.892215Z",
     "iopub.status.busy": "2024-05-15T05:45:43.891087Z",
     "iopub.status.idle": "2024-05-15T05:45:43.905777Z",
     "shell.execute_reply": "2024-05-15T05:45:43.903614Z",
     "shell.execute_reply.started": "2024-05-15T05:45:43.892143Z"
    }
   },
   "source": [
    "# Why Do Birds Suddenly Appear?\n",
    "### Analyzing Global Duck Migration Trends with eBird Data"
   ]
  },
  {
   "cell_type": "markdown",
   "id": "063df763-cef0-47cf-a6e9-029470ac4d7a",
   "metadata": {
    "execution": {
     "iopub.execute_input": "2024-05-15T07:22:50.366474Z",
     "iopub.status.busy": "2024-05-15T07:22:50.365774Z",
     "iopub.status.idle": "2024-05-15T07:22:50.525685Z",
     "shell.execute_reply": "2024-05-15T07:22:50.523754Z",
     "shell.execute_reply.started": "2024-05-15T07:22:50.366410Z"
    }
   },
   "source": [
    "![Title](Maps.png)"
   ]
  },
  {
   "cell_type": "markdown",
   "id": "8f7fa808-8930-469b-a351-0c6c7e683eee",
   "metadata": {
    "execution": {
     "iopub.execute_input": "2024-05-15T03:11:54.709635Z",
     "iopub.status.busy": "2024-05-15T03:11:54.709177Z",
     "iopub.status.idle": "2024-05-15T03:11:54.716896Z",
     "shell.execute_reply": "2024-05-15T03:11:54.714596Z",
     "shell.execute_reply.started": "2024-05-15T03:11:54.709612Z"
    }
   },
   "source": [
    "<a id='Header2'></a>\n",
    "<h1 style=\"color:#E4DEBE; background-color:#183318; padding: 20px 0; text-align: left; font-weight: bold; padding-left: 20px;\">I. ABSTRACT</h1><a id='ExecSum'></a><a id='Title'></a><a"
   ]
  },
  {
   "cell_type": "markdown",
   "id": "bb6ec60f-d62e-4e4b-8ae7-9c7c3bb10059",
   "metadata": {},
   "source": [
    "\n",
    "This study investigates the seasonal migration patterns of various duck species across the Americas using data from the eBird Science dataset. By leveraging PySpark for efficient data processing and visualization tools such as Matplotlib and GeoPandas, we provide a comprehensive analysis of bird sightings data. Our primary objectives are to identify the seasonal distribution of duck species, understand species-specific migratory behaviors, and support conservation efforts by highlighting critical habitats and migration corridors.\n",
    "\n",
    "The dataset comprises extensive records of duck sightings, including geographic coordinates and timestamps, contributed by citizen scientists and researchers. We processed this data to extract relevant information on species, year, and season, enabling detailed analysis of migratory patterns.\n",
    "\n",
    "Interactive visualizations were created to dynamically explore the data, revealing significant insights into the migratory routes and seasonal habitats of various duck species. Our findings highlight the importance of preserving key habitats and offer valuable information for conservation strategies. This study demonstrates the utility of large-scale citizen science data in understanding avian ecology and supporting biodiversity conservation.\n"
   ]
  },
  {
   "cell_type": "markdown",
   "id": "39dfd4cc-240f-4c1c-9dd6-d9350cea2492",
   "metadata": {
    "execution": {
     "iopub.status.busy": "2024-05-15T03:11:54.718853Z",
     "iopub.status.idle": "2024-05-15T03:11:54.719846Z",
     "shell.execute_reply": "2024-05-15T03:11:54.719476Z",
     "shell.execute_reply.started": "2024-05-15T03:11:54.719440Z"
    }
   },
   "source": [
    "<a id='Header2'></a>\n",
    "<h1 style=\"color:#E4DEBE; background-color:#183318; padding: 20px 0; text-align: left; font-weight: bold; padding-left: 20px;\">II. INTRODUCTION</h1><a id='ExecSum'></a><a id='Title'></a><a"
   ]
  },
  {
   "cell_type": "markdown",
   "id": "76d30424-d18d-4291-aadd-6f4947e935a6",
   "metadata": {},
   "source": [
    "Ducks are a diverse group of waterfowl belonging to the family Anatidae, which also includes swans and geese. They are found in a variety of habitats across the globe, including freshwater lakes, rivers, marshes, and coastal wetlands. Ducks are characterized by their broad, flat bills, webbed feet, and relatively short legs, adaptations that make them well-suited for an aquatic lifestyle. They exhibit a range of behaviors and dietary preferences, from dabbling in shallow waters for plants and small invertebrates to diving deep underwater to catch fish and other prey (Wikipedia Contributors, 2019).\n",
    "\n",
    "Migration is a fundamental aspect of duck ecology, driven primarily by seasonal changes in resource availability and climatic conditions. Ducks typically migrate between their breeding grounds, often located in the temperate or Arctic regions, and their wintering grounds, which are usually in warmer, more southerly areas. This migration allows them to exploit different habitats at different times of the year, ensuring access to food and suitable breeding sites (Birdfact, 2022).\n",
    "\n",
    "\n",
    "Understanding the migration patterns of ducks is crucial for several reasons. Firstly, it helps in identifying critical habitats that need protection, such as stopover sites where ducks rest and refuel during their long migrations. These sites are often rich in food resources and provide essential respite for the birds. Secondly, analyzing migration data can reveal broader ecological changes, such as shifts in climate or habitat availability, which may impact not only duck populations but also other wildlife and plant species dependent on the same ecosystems.\n",
    "\n",
    "\n",
    "In this lab, we utilize extensive bird observation data to analyze the migration patterns and population dynamics of ducks. Our goal is to determine the optimal locations and times for observing these species, providing insights into their migratory behavior. This analysis will also contribute to the development of effective conservation strategies, ensuring the long-term health and sustainability of duck populations and the ecosystems they inhabit."
   ]
  },
  {
   "cell_type": "markdown",
   "id": "2864db5f-bb9f-4669-a3ce-222d09f19072",
   "metadata": {
    "execution": {
     "iopub.execute_input": "2024-05-15T03:14:07.545772Z",
     "iopub.status.busy": "2024-05-15T03:14:07.544988Z",
     "iopub.status.idle": "2024-05-15T03:14:07.558212Z",
     "shell.execute_reply": "2024-05-15T03:14:07.556035Z",
     "shell.execute_reply.started": "2024-05-15T03:14:07.545692Z"
    }
   },
   "source": [
    "<a id='Header2'></a>\n",
    "<h1 style=\"color:#E4DEBE; background-color:#183318; padding: 20px 0; text-align: left; font-weight: bold; \n",
    "padding-left: 20px;\">III. PROJECT OBJECTIVES AND PURPOSE</h1><a id='ExecSum'></a><a id='Title'></a><a"
   ]
  },
  {
   "cell_type": "markdown",
   "id": "3600b502-17eb-449f-bd1e-fc6defd521c3",
   "metadata": {
    "execution": {
     "iopub.execute_input": "2024-05-15T03:14:47.221072Z",
     "iopub.status.busy": "2024-05-15T03:14:47.220425Z",
     "iopub.status.idle": "2024-05-15T03:14:47.231472Z",
     "shell.execute_reply": "2024-05-15T03:14:47.229128Z",
     "shell.execute_reply.started": "2024-05-15T03:14:47.221016Z"
    }
   },
   "source": [
    "<h2 style=\"color: #183318;\">A. Problem Statement</h2>"
   ]
  },
  {
   "cell_type": "markdown",
   "id": "a1bcfd83-6c2c-478d-becf-1c39c22c5273",
   "metadata": {
    "execution": {
     "iopub.execute_input": "2024-05-15T05:01:08.774684Z",
     "iopub.status.busy": "2024-05-15T05:01:08.774043Z",
     "iopub.status.idle": "2024-05-15T05:01:08.787004Z",
     "shell.execute_reply": "2024-05-15T05:01:08.785157Z",
     "shell.execute_reply.started": "2024-05-15T05:01:08.774629Z"
    }
   },
   "source": [
    "How can we leverage comprehensive bird observation data to understand the migration patterns and population dynamics of ducks, while also identifying optimal duck-spotting locations and proposing conservation strategies to mitigate ecological impacts?"
   ]
  },
  {
   "cell_type": "markdown",
   "id": "4c73b222-a8ab-49fd-acbd-a1443ba512be",
   "metadata": {
    "execution": {
     "iopub.execute_input": "2024-05-15T03:15:18.039289Z",
     "iopub.status.busy": "2024-05-15T03:15:18.038623Z",
     "iopub.status.idle": "2024-05-15T03:15:18.048474Z",
     "shell.execute_reply": "2024-05-15T03:15:18.046483Z",
     "shell.execute_reply.started": "2024-05-15T03:15:18.039235Z"
    }
   },
   "source": [
    "<h2 style=\"color: #183318;\">B. Motivation</h2>"
   ]
  },
  {
   "cell_type": "markdown",
   "id": "b3f368df-1dbe-4821-9d7d-d2a31479c95e",
   "metadata": {},
   "source": [
    "\n",
    "\n",
    "Understanding the migration patterns and population dynamics of ducks is crucial for several reasons. Ducks are not only a vital component of wetland ecosystems, but they also serve as key indicators of environmental health. As migratory species, ducks face numerous threats from habitat loss, climate change, and human activities. These challenges necessitate a comprehensive analysis of their movements and population trends to inform conservation strategies effectively.\n",
    "\n",
    "Birdwatchers and citizen scientists contribute vast amounts of data, providing an unprecedented opportunity to gain insights into duck behavior and migration. By leveraging this extensive dataset, we can identify critical habitats, optimal observation locations, and periods of significant movement. This information is invaluable for researchers, conservationists, and policymakers aiming to preserve these species and their habitats.\n",
    "\n",
    "Moreover, public interest in birdwatching and wildlife conservation is growing. By creating accessible and engaging visualizations of duck migration patterns, we can raise awareness about the importance of preserving wetland ecosystems and inspire more people to participate in conservation efforts. Ultimately, this project seeks to contribute meaningfully to the scientific understanding and conservation of migratory ducks, ensuring their survival for future generations."
   ]
  },
  {
   "cell_type": "markdown",
   "id": "5539e206-9725-4c8d-91f3-2d35bd6f8c01",
   "metadata": {
    "execution": {
     "iopub.execute_input": "2024-05-15T04:00:12.501070Z",
     "iopub.status.busy": "2024-05-15T04:00:12.500386Z",
     "iopub.status.idle": "2024-05-15T04:00:12.511924Z",
     "shell.execute_reply": "2024-05-15T04:00:12.509846Z",
     "shell.execute_reply.started": "2024-05-15T04:00:12.501000Z"
    }
   },
   "source": [
    "<a id='Header2'></a>\n",
    "<h1 style=\"color:#E4DEBE; background-color:#183318; padding: 20px 0; text-align: left; font-weight: bold; padding-left: 20px;\">V. DATA COLLECTION</h1><a id='ExecSum'></a><a id='Title'></a><a"
   ]
  },
  {
   "cell_type": "markdown",
   "id": "c4040eb5-fda2-46a4-9664-b3d170cf1c45",
   "metadata": {
    "execution": {
     "iopub.execute_input": "2024-05-15T04:00:40.465197Z",
     "iopub.status.busy": "2024-05-15T04:00:40.464558Z",
     "iopub.status.idle": "2024-05-15T04:00:40.474375Z",
     "shell.execute_reply": "2024-05-15T04:00:40.472501Z",
     "shell.execute_reply.started": "2024-05-15T04:00:40.465144Z"
    }
   },
   "source": [
    "<h2 style=\"color: #183318;\">A. Data Source</h2>"
   ]
  },
  {
   "cell_type": "markdown",
   "id": "1f21e73e-1dc8-4fa5-ba24-b2b7703b20f9",
   "metadata": {},
   "source": [
    "The data source of this analysis is the eBird Status and Trends data, which consists of bird observation records collected from birdwatchers worldwide. This data includes specific details such as species identification, the time of observation, and geographic coordinates. These comprehensive datasets are instrumental in understanding bird species distribution and population trends over time."
   ]
  },
  {
   "cell_type": "code",
   "execution_count": 2,
   "id": "3338ec5b-8973-45a6-9f3f-9a244e479ef1",
   "metadata": {
    "execution": {
     "iopub.execute_input": "2024-05-15T15:16:51.554502Z",
     "iopub.status.busy": "2024-05-15T15:16:51.554300Z",
     "iopub.status.idle": "2024-05-15T15:16:56.414245Z",
     "shell.execute_reply": "2024-05-15T15:16:56.412329Z",
     "shell.execute_reply.started": "2024-05-15T15:16:51.554482Z"
    }
   },
   "outputs": [
    {
     "name": "stdout",
     "output_type": "stream",
     "text": [
      "1.4T\t/mnt/data/public/ebird/\n"
     ]
    }
   ],
   "source": [
    "# whole dataset\n",
    "!du -sh /mnt/data/public/ebird/"
   ]
  },
  {
   "cell_type": "markdown",
   "id": "e526fcbc-67b2-4ed8-87be-d97d33483f87",
   "metadata": {},
   "source": [
    "The entire dataset is 1.4T, consisting of CSV files of bird sightings from North America, and visualizations in a proprietary format."
   ]
  },
  {
   "cell_type": "code",
   "execution_count": 3,
   "id": "4011d371-aaca-43bd-bc3b-b8d8dad99b59",
   "metadata": {
    "execution": {
     "iopub.execute_input": "2024-05-15T15:16:56.417309Z",
     "iopub.status.busy": "2024-05-15T15:16:56.416685Z",
     "iopub.status.idle": "2024-05-15T15:16:56.684543Z",
     "shell.execute_reply": "2024-05-15T15:16:56.682727Z",
     "shell.execute_reply.started": "2024-05-15T15:16:56.417239Z"
    }
   },
   "outputs": [
    {
     "name": "stdout",
     "output_type": "stream",
     "text": [
      "28G\ttotal\n"
     ]
    }
   ],
   "source": [
    "# duck CSVs\n",
    "!du -ch \\\n",
    "/mnt/data/public/ebird/bbwduc-ERD2018-EBIRD_SCIENCE-20191105-dc3957b5/data/*.csv \\\n",
    "/mnt/data/public/ebird/fuwduc-ERD2018-EBIRD_SCIENCE-20191108-754039df/data/*.csv \\\n",
    "/mnt/data/public/ebird/musduc-ERD2018-EBIRD_SCIENCE-20191113-70538914/data/*.csv \\\n",
    "/mnt/data/public/ebird/wooduc-ERD2018-EBIRD_SCIENCE-20191030-e29a115f/data/*.csv \\\n",
    "/mnt/data/public/ebird/buwtea-ERD2018-EBIRD_SCIENCE-20191026-e03b029e/data/*.csv \\\n",
    "/mnt/data/public/ebird/cintea-ERD2018-EBIRD_SCIENCE-20191105-145ef846/data/*.csv \\\n",
    "/mnt/data/public/ebird/norsho-ERD2018-EBIRD_SCIENCE-20191103-421d971b/data/*.csv \\\n",
    "/mnt/data/public/ebird/gadwal-ERD2018-EBIRD_SCIENCE-20191103-481aa100/data/*.csv \\\n",
    "/mnt/data/public/ebird/amewig-ERD2018-EBIRD_SCIENCE-20191103-90051c9b/data/*.csv \\\n",
    "/mnt/data/public/ebird/mallar3-ERD2018-EBIRD_SCIENCE-20191101-708131f3/data/*.csv \\\n",
    "/mnt/data/public/ebird/mexduc-ERD2018-EBIRD_SCIENCE-20191109-c1d8d500/data/*.csv \\\n",
    "/mnt/data/public/ebird/ambduc-ERD2018-EBIRD_SCIENCE-20191029-e2ed9548/data/*.csv \\\n",
    "/mnt/data/public/ebird/motduc-ERD2018-EBIRD_SCIENCE-20191105-f26b05f2/data/*.csv \\\n",
    "/mnt/data/public/ebird/norpin-ERD2018-EBIRD_SCIENCE-20191104-e1db18cd/data/*.csv \\\n",
    "/mnt/data/public/ebird/gnwtea-ERD2018-EBIRD_SCIENCE-20191103-8d623ff8/data/*.csv \\\n",
    "/mnt/data/public/ebird/canvas-ERD2018-EBIRD_SCIENCE-20191105-4eb1360b/data/*.csv \\\n",
    "/mnt/data/public/ebird/redhea-ERD2018-EBIRD_SCIENCE-20191029-6d235b26/data/*.csv \\\n",
    "/mnt/data/public/ebird/rinduc-ERD2018-EBIRD_SCIENCE-20191103-9f256851/data/*.csv \\\n",
    "/mnt/data/public/ebird/gresca-ERD2018-EBIRD_SCIENCE-20191104-7189d431/data/*.csv \\\n",
    "/mnt/data/public/ebird/lessca-ERD2018-EBIRD_SCIENCE-20191103-98c9bc5d/data/*.csv \\\n",
    "/mnt/data/public/ebird/steeid-ERD2018-EBIRD_SCIENCE-20191029-dba0f3bf/data/*.csv \\\n",
    "/mnt/data/public/ebird/speeid-ERD2018-EBIRD_SCIENCE-20191029-c6b3af35/data/*.csv \\\n",
    "/mnt/data/public/ebird/kineid-ERD2018-EBIRD_SCIENCE-20191108-3a80b49c/data/*.csv \\\n",
    "/mnt/data/public/ebird/comeid-ERD2018-EBIRD_SCIENCE-20191105-1f6d42f0/data/*.csv \\\n",
    "/mnt/data/public/ebird/harduc-ERD2018-EBIRD_SCIENCE-20191108-cf76de4d/data/*.csv \\\n",
    "/mnt/data/public/ebird/sursco-ERD2018-EBIRD_SCIENCE-20191104-fa814127/data/*.csv \\\n",
    "/mnt/data/public/ebird/whwsco4-ERD2018-EBIRD_SCIENCE-20191105-0cba4c36/data/*.csv \\\n",
    "/mnt/data/public/ebird/blksco2-ERD2018-EBIRD_SCIENCE-20191107-4b9c946b/data/*.csv \\\n",
    "/mnt/data/public/ebird/lotduc-ERD2018-EBIRD_SCIENCE-20191105-009ca0f9/data/*.csv \\\n",
    "/mnt/data/public/ebird/buffle-ERD2018-EBIRD_SCIENCE-20191103-76984696/data/*.csv \\\n",
    "/mnt/data/public/ebird/comgol-ERD2018-EBIRD_SCIENCE-20191103-accd7641/data/*.csv \\\n",
    "/mnt/data/public/ebird/bargol-ERD2018-EBIRD_SCIENCE-20191108-57c9ffb3/data/*.csv \\\n",
    "/mnt/data/public/ebird/hoomer-ERD2018-EBIRD_SCIENCE-20191103-c76d0aee/data/*.csv \\\n",
    "/mnt/data/public/ebird/commer-ERD2018-EBIRD_SCIENCE-20191103-150d2fe1/data/*.csv \\\n",
    "/mnt/data/public/ebird/rebmer-ERD2018-EBIRD_SCIENCE-20191103-79149b24/data/*.csv \\\n",
    "/mnt/data/public/ebird/rudduc-ERD2018-EBIRD_SCIENCE-20191103-c634b0f9/data/*.csv \\\n",
    "| grep total$"
   ]
  },
  {
   "cell_type": "markdown",
   "id": "2f5aa5b7-8cbf-4582-b07e-2e669fd6f1c7",
   "metadata": {},
   "source": [
    "Limiting it only to the sighting CSVs of duck species, the dataset is now 28Gb.\n",
    "\n",
    "Each CSV has 77 features:\n",
    "1. SAMPLING_EVENT_ID\n",
    "2. OBSERVER_ID\n",
    "3. LONGITUDE\n",
    "4. LATITUDE\n",
    "5. I_STATIONARY\n",
    "6. YEAR\n",
    "7. DAY\n",
    "8. SOLAR_NOON_DIFF\n",
    "9. EFFORT_HRS\n",
    "10. EFFORT_DISTANCE_KM\n",
    "11. NUMBER_OBSERVERS\n",
    "12. EASTNESS_MEDIAN\n",
    "13. EASTNESS_SD\n",
    "14. ELEV_MEDIAN\n",
    "15. ELEV_SD\n",
    "16. INTERTIDAL_FS_C1_1500_ED\n",
    "17. INTERTIDAL_FS_C1_1500_PLAND\n",
    "18. ISLAND\n",
    "19. MCD12Q1_LCCS1_FS_C1_1500_ED\n",
    "20. MCD12Q1_LCCS1_FS_C1_1500_PLAND\n",
    "21. MCD12Q1_LCCS1_FS_C2_1500_ED\n",
    "22. MCD12Q1_LCCS1_FS_C2_1500_PLAND\n",
    "23. MCD12Q1_LCCS1_FS_C11_1500_ED\n",
    "24. MCD12Q1_LCCS1_FS_C11_1500_PLAND\n",
    "25. MCD12Q1_LCCS1_FS_C12_1500_ED\n",
    "26. MCD12Q1_LCCS1_FS_C12_1500_PLAND\n",
    "27. MCD12Q1_LCCS1_FS_C13_1500_ED\n",
    "28. MCD12Q1_LCCS1_FS_C13_1500_PLAND\n",
    "29. MCD12Q1_LCCS1_FS_C14_1500_ED\n",
    "30. MCD12Q1_LCCS1_FS_C14_1500_PLAND\n",
    "31. MCD12Q1_LCCS1_FS_C15_1500_ED\n",
    "32. MCD12Q1_LCCS1_FS_C15_1500_PLAND\n",
    "33. MCD12Q1_LCCS1_FS_C16_1500_ED\n",
    "34. MCD12Q1_LCCS1_FS_C16_1500_PLAND\n",
    "35. MCD12Q1_LCCS1_FS_C21_1500_ED\n",
    "36. MCD12Q1_LCCS1_FS_C21_1500_PLAND\n",
    "37. MCD12Q1_LCCS1_FS_C22_1500_ED\n",
    "38. MCD12Q1_LCCS1_FS_C22_1500_PLAND\n",
    "39. MCD12Q1_LCCS1_FS_C255_1500_ED\n",
    "40. MCD12Q1_LCCS1_FS_C255_1500_PLAND\n",
    "41. MCD12Q1_LCCS1_FS_C31_1500_ED\n",
    "42. MCD12Q1_LCCS1_FS_C31_1500_PLAND\n",
    "43. MCD12Q1_LCCS1_FS_C32_1500_ED\n",
    "44. MCD12Q1_LCCS1_FS_C32_1500_PLAND\n",
    "45. MCD12Q1_LCCS1_FS_C41_1500_ED\n",
    "46. MCD12Q1_LCCS1_FS_C41_1500_PLAND\n",
    "47. MCD12Q1_LCCS1_FS_C42_1500_ED\n",
    "48. MCD12Q1_LCCS1_FS_C42_1500_PLAND\n",
    "49. MCD12Q1_LCCS1_FS_C43_1500_ED\n",
    "50. MCD12Q1_LCCS1_FS_C43_1500_PLAND\n",
    "51. MCD12Q1_LCCS2_FS_C25_1500_ED\n",
    "52. MCD12Q1_LCCS2_FS_C25_1500_PLAND\n",
    "53. MCD12Q1_LCCS2_FS_C35_1500_ED\n",
    "54. MCD12Q1_LCCS2_FS_C35_1500_PLAND\n",
    "55. MCD12Q1_LCCS2_FS_C36_1500_ED\n",
    "56. MCD12Q1_LCCS2_FS_C36_1500_PLAND\n",
    "57. MCD12Q1_LCCS3_FS_C27_1500_ED\n",
    "58. MCD12Q1_LCCS3_FS_C27_1500_PLAND\n",
    "59. MCD12Q1_LCCS3_FS_C50_1500_ED\n",
    "60. MCD12Q1_LCCS3_FS_C50_1500_PLAND\n",
    "61. MCD12Q1_LCCS3_FS_C51_1500_ED\n",
    "62. MCD12Q1_LCCS3_FS_C51_1500_PLAND\n",
    "63. MOD44W_OIC_FS_C1_1500_ED\n",
    "64. MOD44W_OIC_FS_C1_1500_PLAND\n",
    "65. MOD44W_OIC_FS_C2_1500_ED\n",
    "66. MOD44W_OIC_FS_C2_1500_PLAND\n",
    "67. MOD44W_OIC_FS_C3_1500_ED\n",
    "68. MOD44W_OIC_FS_C3_1500_PLAND\n",
    "69. NORTHNESS_MEDIAN\n",
    "70. NORTHNESS_SD\n",
    "71. NTL_MEAN\n",
    "72. NTL_SD\n",
    "73. obs\n",
    "74. DATE\n",
    "75. RES\n",
    "76. DATA_TYPE\n",
    "\n",
    "For the purpose of brevity, we will only detail the features we used in the following section."
   ]
  },
  {
   "cell_type": "markdown",
   "id": "6db0e202-7cab-42bf-a91c-7a55d899bd8a",
   "metadata": {
    "execution": {
     "iopub.execute_input": "2024-05-15T04:01:03.326605Z",
     "iopub.status.busy": "2024-05-15T04:01:03.325945Z",
     "iopub.status.idle": "2024-05-15T04:01:03.336140Z",
     "shell.execute_reply": "2024-05-15T04:01:03.334066Z",
     "shell.execute_reply.started": "2024-05-15T04:01:03.326551Z"
    }
   },
   "source": [
    "<h2 style=\"color: #183318;\">B. Data Descriptions</h2>"
   ]
  },
  {
   "cell_type": "markdown",
   "id": "381aeb9c-e17c-4786-9e6d-0cb171e2ac23",
   "metadata": {},
   "source": [
    "\n",
    "\n",
    "### Table 1. Feature Description\n",
    "\n",
    "| Feature Name  | Feature Description                                                                                                                                                                      | Sample Record         | Data Type |\n",
    "|---------------|------------------------------------------------------------------------------------------------------------------------------------------------------------------------------------------|-----------------------|-----------|\n",
    "| **year**      | The year of the observation, critical for understanding temporal patterns and trends over time.                                                                                           | 2023                  | integer   |\n",
    "| **day**       | The day of the year of the observation, important for detailed temporal analysis and seasonal trend identification.                                                                       | 115                   | integer   |\n",
    "| **longitude** | Geographic longitude of the observation, crucial for spatial analysis and mapping migration routes and population distributions.                                                          | -74.0060              | float     |\n",
    "| **latitude**  | Geographic latitude of the observation, essential for spatial analysis and mapping migration routes and population distributions.                                                          | 40.7128               | float     |\n"
   ]
  },
  {
   "cell_type": "markdown",
   "id": "e2e53e9f-78e9-462d-876b-a83b3c72576b",
   "metadata": {},
   "source": [
    "<a id='Header2'></a>\n",
    "<h1 style=\"color:#E4DEBE; background-color:#183318; padding: 20px 0; text-align: left; font-weight: bold; padding-left: 20px;\">VII. METHODOLOGY</h1><a id='ExecSum'></a><a id='Title'></a><a"
   ]
  },
  {
   "cell_type": "markdown",
   "id": "4ac3c705-fdd8-435f-8881-50257fee0ff8",
   "metadata": {},
   "source": [
    "1. Setting up Spark Session:\n",
    "- Imported necessary modules and initialized a SparkSession.\n",
    "- Specified configurations for Spark such as memory allocation and timeouts.\n",
    "\n",
    "2. Defining Folder Paths:\n",
    "- Defined the paths to the folders containing the data files."
   ]
  },
  {
   "cell_type": "code",
   "execution_count": 4,
   "id": "4cf19bac-ffa9-478c-a8ad-9244f796f61c",
   "metadata": {
    "execution": {
     "iopub.execute_input": "2024-05-15T15:16:56.688000Z",
     "iopub.status.busy": "2024-05-15T15:16:56.687349Z",
     "iopub.status.idle": "2024-05-15T15:17:00.157691Z",
     "shell.execute_reply": "2024-05-15T15:17:00.155592Z",
     "shell.execute_reply.started": "2024-05-15T15:16:56.687933Z"
    },
    "tags": []
   },
   "outputs": [],
   "source": [
    "from pyspark.sql import SparkSession\n",
    "from pyspark.sql.functions import lit, input_file_name, regexp_extract\n",
    "\n",
    "spark = SparkSession.builder \\\n",
    "    .master('local[*]') \\\n",
    "    .appName('BirdSightings') \\\n",
    "    .config('spark.executor.memory', '4g') \\\n",
    "    .config('spark.driver.memory', '4g') \\\n",
    "    .config('spark.network.timeout', '600s') \\\n",
    "    .config('spark.executor.heartbeatInterval', '120s') \\\n",
    "    .config(\"spark.sql.execution.arrow.pyspark.enabled\", \"true\") \\\n",
    "    .getOrCreate()\n",
    "\n",
    "\n",
    "folder_paths = [\n",
    "    \"/mnt/data/public/ebird/bbwduc-ERD2018-EBIRD_SCIENCE-20191105-dc3957b5/data\",\n",
    "    \"/mnt/data/public/ebird/fuwduc-ERD2018-EBIRD_SCIENCE-20191108-754039df/data\",\n",
    "    \"/mnt/data/public/ebird/musduc-ERD2018-EBIRD_SCIENCE-20191113-70538914/data\",\n",
    "    \"/mnt/data/public/ebird/wooduc-ERD2018-EBIRD_SCIENCE-20191030-e29a115f/data\",\n",
    "    \"/mnt/data/public/ebird/buwtea-ERD2018-EBIRD_SCIENCE-20191026-e03b029e/data\",\n",
    "    \"/mnt/data/public/ebird/cintea-ERD2018-EBIRD_SCIENCE-20191105-145ef846/data\",\n",
    "    \"/mnt/data/public/ebird/norsho-ERD2018-EBIRD_SCIENCE-20191103-421d971b/data\",\n",
    "    \"/mnt/data/public/ebird/gadwal-ERD2018-EBIRD_SCIENCE-20191103-481aa100/data\",\n",
    "    \"/mnt/data/public/ebird/amewig-ERD2018-EBIRD_SCIENCE-20191103-90051c9b/data\",\n",
    "    \"/mnt/data/public/ebird/mallar3-ERD2018-EBIRD_SCIENCE-20191101-708131f3/data\",\n",
    "    \"/mnt/data/public/ebird/mexduc-ERD2018-EBIRD_SCIENCE-20191109-c1d8d500/data\",\n",
    "    \"/mnt/data/public/ebird/ambduc-ERD2018-EBIRD_SCIENCE-20191029-e2ed9548/data\",\n",
    "    \"/mnt/data/public/ebird/motduc-ERD2018-EBIRD_SCIENCE-20191105-f26b05f2/data\",\n",
    "    \"/mnt/data/public/ebird/norpin-ERD2018-EBIRD_SCIENCE-20191104-e1db18cd/data\",\n",
    "    \"/mnt/data/public/ebird/gnwtea-ERD2018-EBIRD_SCIENCE-20191103-8d623ff8/data\",\n",
    "    \"/mnt/data/public/ebird/canvas-ERD2018-EBIRD_SCIENCE-20191105-4eb1360b/data\",\n",
    "    \"/mnt/data/public/ebird/redhea-ERD2018-EBIRD_SCIENCE-20191029-6d235b26/data\",\n",
    "    \"/mnt/data/public/ebird/rinduc-ERD2018-EBIRD_SCIENCE-20191103-9f256851/data\",\n",
    "    \"/mnt/data/public/ebird/gresca-ERD2018-EBIRD_SCIENCE-20191104-7189d431/data\",\n",
    "    \"/mnt/data/public/ebird/lessca-ERD2018-EBIRD_SCIENCE-20191103-98c9bc5d/data\",\n",
    "    \"/mnt/data/public/ebird/steeid-ERD2018-EBIRD_SCIENCE-20191029-dba0f3bf/data\",\n",
    "    \"/mnt/data/public/ebird/speeid-ERD2018-EBIRD_SCIENCE-20191029-c6b3af35/data\",\n",
    "    \"/mnt/data/public/ebird/kineid-ERD2018-EBIRD_SCIENCE-20191108-3a80b49c/data\",\n",
    "    \"/mnt/data/public/ebird/comeid-ERD2018-EBIRD_SCIENCE-20191105-1f6d42f0/data\",\n",
    "    \"/mnt/data/public/ebird/harduc-ERD2018-EBIRD_SCIENCE-20191108-cf76de4d/data\",\n",
    "    \"/mnt/data/public/ebird/sursco-ERD2018-EBIRD_SCIENCE-20191104-fa814127/data\",\n",
    "    \"/mnt/data/public/ebird/whwsco4-ERD2018-EBIRD_SCIENCE-20191105-0cba4c36/data\",\n",
    "    \"/mnt/data/public/ebird/blksco2-ERD2018-EBIRD_SCIENCE-20191107-4b9c946b/data\",\n",
    "    \"/mnt/data/public/ebird/lotduc-ERD2018-EBIRD_SCIENCE-20191105-009ca0f9/data\",\n",
    "    \"/mnt/data/public/ebird/buffle-ERD2018-EBIRD_SCIENCE-20191103-76984696/data\",\n",
    "    \"/mnt/data/public/ebird/comgol-ERD2018-EBIRD_SCIENCE-20191103-accd7641/data\",\n",
    "    \"/mnt/data/public/ebird/bargol-ERD2018-EBIRD_SCIENCE-20191108-57c9ffb3/data\",\n",
    "    \"/mnt/data/public/ebird/hoomer-ERD2018-EBIRD_SCIENCE-20191103-c76d0aee/data\",\n",
    "    \"/mnt/data/public/ebird/commer-ERD2018-EBIRD_SCIENCE-20191103-150d2fe1/data\",\n",
    "    \"/mnt/data/public/ebird/rebmer-ERD2018-EBIRD_SCIENCE-20191103-79149b24/data\",\n",
    "    \"/mnt/data/public/ebird/rudduc-ERD2018-EBIRD_SCIENCE-20191103-c634b0f9/data\"\n",
    "]"
   ]
  },
  {
   "cell_type": "markdown",
   "id": "1c32afa8-5ab6-4c59-b772-8401a2e074fb",
   "metadata": {},
   "source": [
    "3. Defining User-Defined Function (UDF):\n",
    "- Defined a Pandas UDF to map month numbers to seasons.\n",
    "\n",
    "4. Reading and Processing Data:\n",
    "- Read the data files into a Spark DataFrame.\n",
    "- Extracted relevant information from the file paths and casted columns to appropriate data types.\n",
    "- Filtered out rows with missing year or day information.\n",
    "- Selected necessary columns and renamed them.\n",
    "- Calculated the month from the day information.\n",
    "- Applied the UDF to get the season corresponding to each month.\n",
    "- Grouped the data by species name, year, and season.\n",
    "- Aggregated coordinates into a list for each group.\n",
    "\n",
    "5. Outputting Results\n",
    "-Displayed a sample of the processed DataFrame.\n",
    "- Wrote the processed data to Parquet files partitioned by species name, year, and season."
   ]
  },
  {
   "cell_type": "markdown",
   "id": "b7bcee85-6472-4895-8cf4-30b4ee3b98c8",
   "metadata": {
    "execution": {
     "iopub.execute_input": "2024-05-15T15:07:00.818356Z",
     "iopub.status.busy": "2024-05-15T15:07:00.817672Z",
     "iopub.status.idle": "2024-05-15T15:07:00.973365Z",
     "shell.execute_reply": "2024-05-15T15:07:00.971436Z",
     "shell.execute_reply.started": "2024-05-15T15:07:00.818298Z"
    }
   },
   "source": [
    "![Pipeline](pipeline.png)"
   ]
  },
  {
   "cell_type": "code",
   "execution_count": 5,
   "id": "56f83331-2707-4c54-8589-8a5b4f636b39",
   "metadata": {
    "collapsed": true,
    "execution": {
     "iopub.execute_input": "2024-05-15T15:17:00.162249Z",
     "iopub.status.busy": "2024-05-15T15:17:00.161207Z",
     "iopub.status.idle": "2024-05-15T15:26:13.234702Z",
     "shell.execute_reply": "2024-05-15T15:26:13.233578Z",
     "shell.execute_reply.started": "2024-05-15T15:17:00.162176Z"
    },
    "jupyter": {
     "outputs_hidden": true
    },
    "scrolled": true
   },
   "outputs": [
    {
     "name": "stderr",
     "output_type": "stream",
     "text": [
      "IOPub data rate exceeded.\n",
      "The Jupyter server will temporarily stop sending output\n",
      "to the client in order to avoid crashing it.\n",
      "To change this limit, set the config variable\n",
      "`--ServerApp.iopub_data_rate_limit`.\n",
      "\n",
      "Current values:\n",
      "ServerApp.iopub_data_rate_limit=1000000.0 (bytes/sec)\n",
      "ServerApp.rate_limit_window=3.0 (secs)\n",
      "\n"
     ]
    }
   ],
   "source": [
    "from pyspark.sql.functions import lit, input_file_name, regexp_extract, col\n",
    "from pyspark.sql import functions as F\n",
    "from pyspark import StorageLevel\n",
    "from pyspark.sql.functions import pandas_udf, PandasUDFType\n",
    "import pandas as pd\n",
    "\n",
    "\n",
    "@pandas_udf(\"string\")\n",
    "def get_season_udf(month_series: pd.Series) -> pd.Series:\n",
    "    \"\"\"\n",
    "    Map a month number to its corresponding season.\n",
    "\n",
    "    Args\n",
    "    ----\n",
    "    month_series (pd.Series): A Pandas Series containing month numbers (1-12).\n",
    "\n",
    "    Returns:\n",
    "    pd.Series: A Pandas Series with the season corresponding to each month.\n",
    "    \"\"\"\n",
    "    def get_season(month):\n",
    "        if month in [12, 1, 2]:\n",
    "            return \"Winter\"\n",
    "        elif month in [3, 4, 5]:\n",
    "            return \"Spring\"\n",
    "        elif month in [6, 7, 8]:\n",
    "            return \"Summer\"\n",
    "        else:\n",
    "            return \"Fall\"\n",
    "\n",
    "    return month_series.apply(get_season)\n",
    "\n",
    "\n",
    "species_season_df = (spark.read.option(\"header\", \"true\").csv(folder_paths)\n",
    "                     .withColumn(\"file_path\", input_file_name())\n",
    "                     .withColumn(\n",
    "                         \"species_name\", regexp_extract(\n",
    "                             \"file_path\", r'/([^/]+)-ERD', 1)\n",
    "                     )\n",
    "                     .withColumn(\"year_int\", col(\"year\").cast(\"int\"))\n",
    "                     .withColumn(\"day_int\", col(\"day\").cast(\"int\"))\n",
    "                     .filter(col(\"year_int\").isNotNull() & col(\"day_int\")\n",
    "                             .isNotNull()\n",
    "                            )\n",
    "                     .select(\n",
    "                         \"species_name\",\n",
    "                         \"year_int\",\n",
    "                         \"day_int\",\n",
    "                         \"longitude\",\n",
    "                         \"latitude\"\n",
    "                     )\n",
    "                     .withColumnRenamed(\"year_int\", \"year\")\n",
    "                     .withColumnRenamed(\"day_int\", \"day\")\n",
    "                     .withColumn(\"month\", ((col(\"day\") - 1) / 30 + 1)\n",
    "                                 .cast(\"int\")\n",
    "                                )\n",
    "                     .withColumn(\"season\", get_season_udf(col(\"month\")))\n",
    "                     .groupBy(\"species_name\", \"year\", \"season\")\n",
    "                     .agg(F.collect_list(F.struct(\"longitude\", \"latitude\"))\n",
    "                          .alias(\"coordinates\")\n",
    "                         )\n",
    "                     )\n",
    "\n",
    "species_season_df.show(3, truncate=False)\n",
    "species_season_df.write.partitionBy(\"species_name\", \"year\", \"season\").parquet(\n",
    "    \"ducks_seasons_parquet\", mode=\"overwrite\")"
   ]
  },
  {
   "cell_type": "code",
   "execution_count": 6,
   "id": "56d82ce5-e9c3-4652-92b6-c1a3e97e0862",
   "metadata": {
    "execution": {
     "iopub.execute_input": "2024-05-15T15:26:13.240515Z",
     "iopub.status.busy": "2024-05-15T15:26:13.239442Z",
     "iopub.status.idle": "2024-05-15T15:26:14.179038Z",
     "shell.execute_reply": "2024-05-15T15:26:14.178015Z",
     "shell.execute_reply.started": "2024-05-15T15:26:13.240453Z"
    },
    "tags": []
   },
   "outputs": [],
   "source": [
    "from pyspark import StorageLevel\n",
    "\n",
    "species_season_df = spark.read.parquet(\"ducks_seasons_parquet\")"
   ]
  },
  {
   "cell_type": "markdown",
   "id": "c4b9ab3e-df5f-4034-a6d5-833dc824c75a",
   "metadata": {},
   "source": [
    "6. Visualizing Species Sightings\n",
    "- Defined a dictionary mapping species codes to their common names and inverted it for easy lookup.\n",
    "- Created a function display_species_sightings() to display sightings of a specific species in a given year and season on a map.\n",
    "- Retrieved species sightings data from the DataFrame based on the selected species, year, and season.\n",
    "- Filtered world map data to include only North and South America for visualization.\n",
    "- Plotted sightings on a map using longitude and latitude coordinates.\n",
    "- Displayed interactive widgets for selecting species, year, and season, enabling dynamic visualization of sightings.\n"
   ]
  },
  {
   "cell_type": "code",
   "execution_count": 7,
   "id": "a8de50d6-4fae-4718-8584-2f33abc611af",
   "metadata": {
    "execution": {
     "iopub.execute_input": "2024-05-15T15:26:14.186637Z",
     "iopub.status.busy": "2024-05-15T15:26:14.186335Z",
     "iopub.status.idle": "2024-05-15T15:26:18.961507Z",
     "shell.execute_reply": "2024-05-15T15:26:18.960602Z",
     "shell.execute_reply.started": "2024-05-15T15:26:14.186603Z"
    },
    "tags": []
   },
   "outputs": [
    {
     "data": {
      "application/vnd.jupyter.widget-view+json": {
       "model_id": "4f790f4f7591442aac40100a4c2cb173",
       "version_major": 2,
       "version_minor": 0
      },
      "text/plain": [
       "interactive(children=(Dropdown(description='Species:', options=('Black-bellied Whistling Duck', 'Fulvous Whist…"
      ]
     },
     "metadata": {},
     "output_type": "display_data"
    },
    {
     "data": {
      "text/plain": [
       "<function __main__.display_species_sightings(species_name, year, season)>"
      ]
     },
     "execution_count": 7,
     "metadata": {},
     "output_type": "execute_result"
    }
   ],
   "source": [
    "from ipywidgets import interact, widgets\n",
    "import matplotlib.pyplot as plt\n",
    "import geopandas as gpd\n",
    "from pyspark.sql.functions import col\n",
    "from pyspark import StorageLevel\n",
    "import numpy as np\n",
    "import warnings\n",
    "\n",
    "# Suppressing\n",
    "# /tmp/ipykernel_739/1372574148.py:40: FutureWarning: The geopandas.dataset \n",
    "# module is deprecated and will be removed in GeoPandas 1.0. You can get the\n",
    "# original 'naturalearth_lowres' data from\n",
    "# https://www.naturalearthdata.com/downloads/110m-cultural-vectors/.\n",
    "#  world = gpd.read_file(gpd.datasets.get_path('naturalearth_lowres'))\n",
    "warnings.simplefilter(action='ignore', category=FutureWarning)\n",
    "\n",
    "# Dictionary mapping species codes to actual species names\n",
    "species_dict = {\n",
    "    \"bbwduc\": \"Black-bellied Whistling Duck\",\n",
    "    \"fuwduc\": \"Fulvous Whistling Duck\",\n",
    "    \"musduc\": \"Muscovy Duck\",\n",
    "    \"wooduc\": \"Wood Duck\",\n",
    "    \"buwtea\": \"Blue-winged Teal\",\n",
    "    \"cintea\": \"Cinnamon Teal\",\n",
    "    \"norsho\": \"Northern Shoveler\",\n",
    "    \"gadwal\": \"Gadwall\",\n",
    "    \"amewig\": \"American Wigeon\",\n",
    "    \"mallar3\": \"Mallard\",\n",
    "    \"mexduc\": \"Mexican Duck\",\n",
    "    \"ambduc\": \"American Black Duck\",\n",
    "    \"motduc\": \"Mottled Duck\",\n",
    "    \"norpin\": \"Northern Pintail\",\n",
    "    \"gnwtea\": \"Green-winged Teal\",\n",
    "    \"canvas\": \"Canvasback\",\n",
    "    \"redhea\": \"Redhead\",\n",
    "    \"rinduc\": \"Ring-necked Duck\",\n",
    "    \"gresca\": \"Greater Scaup\",\n",
    "    \"lessca\": \"Lesser Scaup\",\n",
    "    \"steeid\": \"Steller's Eider\",\n",
    "    \"speeid\": \"Spectacled Eider\",\n",
    "    \"kineid\": \"King Eider\",\n",
    "    \"comeid\": \"Common Eider\",\n",
    "    \"harduc\": \"Harlequin Duck\",\n",
    "    \"sursco\": \"Surf Scoter\",\n",
    "    \"whwsco4\": \"White-winged Scoter\",\n",
    "    \"blksco2\": \"Black Scoter\",\n",
    "    \"lotduc\": \"Long-tailed Duck\",\n",
    "    \"buffle\": \"Bufflehead\",\n",
    "    \"comgol\": \"Common Goldeneye\",\n",
    "    \"bargol\": \"Barrow's Goldeneye\",\n",
    "    \"hoomer\": \"Hooded Merganser\",\n",
    "    \"commer\": \"Common Merganser\",\n",
    "    \"rebmer\": \"Red-breasted Merganser\",\n",
    "    \"rudduc\": \"Ruddy Duck\"\n",
    "}\n",
    "\n",
    "# Invert the dictionary for easy lookup of species code by name\n",
    "species_name_to_code = {v: k for k, v in species_dict.items()}\n",
    "\n",
    "# Modify the display_species_sightings function to accept year_range parameter\n",
    "\n",
    "\n",
    "def display_species_sightings(species_name, year, season):\n",
    "    \"\"\"\n",
    "    Display the sightings of a specific species in a given year and season \n",
    "    on a map.\n",
    "\n",
    "    Args:\n",
    "    species_name (str): The common name of the species to display.\n",
    "    year (int): The year of the sightings to display.\n",
    "    season (str): The season of the sightings to display.\n",
    "\n",
    "    Returns:\n",
    "    None\n",
    "    \"\"\"\n",
    "    if season is None or year is None:\n",
    "        return\n",
    "\n",
    "    species_code = species_name_to_code[species_name]\n",
    "    season_df = species_season_df \\\n",
    "        .filter(\n",
    "            (col(\"species_name\") == species_code)\n",
    "            & (col(\"year\") == year)\n",
    "            & (col(\"season\") == season)\n",
    "        ).select(\"coordinates\").collect()\n",
    "\n",
    "    # Read world shapefile\n",
    "    world = gpd.read_file(gpd.datasets.get_path('naturalearth_lowres'))\n",
    "\n",
    "    # Filter world map to include only North and South America\n",
    "    world = world[(world['continent'] == 'North America') |\n",
    "                  (world['continent'] == 'South America')]\n",
    "\n",
    "    # Create subplots for each season\n",
    "    fig, ax = plt.subplots(figsize=(8, 6))\n",
    "    fig.suptitle(\n",
    "        f\"Sightings for {species_name} - {season} {year}\", fontsize=16)\n",
    "\n",
    "    # Set static limits for the Americas\n",
    "    ax.set_xlim([-170, -30])\n",
    "    ax.set_ylim([-60, 80])\n",
    "\n",
    "    if season_df:\n",
    "        coordinates = [(float(coord[\"longitude\"]), float(coord[\"latitude\"]))\n",
    "                       for coord in season_df[0][\"coordinates\"]]\n",
    "        coordinates_array = np.array(coordinates)\n",
    "\n",
    "        world.plot(ax=ax, color='lightgrey', edgecolor='black')\n",
    "\n",
    "        # Plot original points on top\n",
    "        ax.scatter(\n",
    "            coordinates_array[:, 0],\n",
    "            coordinates_array[:, 1],\n",
    "            color='#183318',\n",
    "            alpha=0.3,\n",
    "            s=10)\n",
    "\n",
    "        ax.set_aspect('auto')\n",
    "        ax.axis('off')\n",
    "        plt.draw()\n",
    "\n",
    "\n",
    "# Get all seasons\n",
    "all_seasons = ['Winter', 'Spring', 'Summer', 'Fall']\n",
    "restricted_seasons = ['Winter']\n",
    "\n",
    "# Get unique years from the data\n",
    "years = sorted(species_season_df.select(\n",
    "    \"year\").distinct().rdd.flatMap(lambda x: x).collect())\n",
    "\n",
    "# Create species dropdown with actual names\n",
    "species_dropdown = widgets.Dropdown(options=list(\n",
    "    species_dict.values()), description='Species:')\n",
    "\n",
    "# Create year dropdown using the dynamically retrieved years\n",
    "year_dropdown = widgets.Dropdown(options=years, description='Year:')\n",
    "\n",
    "# Create season button\n",
    "season_button = widgets.ToggleButtons(\n",
    "    options=all_seasons, description='Season:', button_style='')\n",
    "\n",
    "\n",
    "def update_season_options(*args):\n",
    "    \"\"\"\n",
    "    Update the available seasons based on the selected year.\n",
    "    \"\"\"\n",
    "    selected_year = year_dropdown.value\n",
    "    if selected_year == 2019:\n",
    "        season_button.options = restricted_seasons\n",
    "    else:\n",
    "        season_button.options = all_seasons\n",
    "\n",
    "\n",
    "# Update season options when the year is changed\n",
    "year_dropdown.observe(update_season_options, 'value')\n",
    "\n",
    "# Display widgets\n",
    "interact(display_species_sightings, species_name=species_dropdown,\n",
    "         year=year_dropdown, season=season_button)"
   ]
  },
  {
   "cell_type": "markdown",
   "id": "604d2626-2121-4f46-a0c6-3dd699707a50",
   "metadata": {
    "execution": {
     "iopub.execute_input": "2024-05-15T13:34:21.032603Z",
     "iopub.status.busy": "2024-05-15T13:34:21.031936Z",
     "iopub.status.idle": "2024-05-15T13:34:21.041850Z",
     "shell.execute_reply": "2024-05-15T13:34:21.039913Z",
     "shell.execute_reply.started": "2024-05-15T13:34:21.032542Z"
    }
   },
   "source": [
    "<video width=\"720\" height=\"720\" \n",
    "       src=\"results.mp4\"  \n",
    "       controls>\n",
    "</video>"
   ]
  },
  {
   "cell_type": "markdown",
   "id": "03ad8b9e-6257-4ade-8e5a-2da52e3a4e23",
   "metadata": {},
   "source": [
    "Above is a screen recording of our output, since the notebook needs to be continuously running for the full dynamic functionality.\n",
    "\n",
    "As you can see, the visualizations are being created very quickly in real time, despite the size of the data. This is owing to the partition struction of  ducks_seasons_parquet, which allows Spark to filter the dataset as needed to duck, year, and season very fast."
   ]
  },
  {
   "cell_type": "markdown",
   "id": "85454583-4a19-46bd-9c8f-b83e5af840ac",
   "metadata": {
    "execution": {
     "iopub.execute_input": "2024-05-15T04:06:01.761001Z",
     "iopub.status.busy": "2024-05-15T04:06:01.760360Z",
     "iopub.status.idle": "2024-05-15T04:06:01.771319Z",
     "shell.execute_reply": "2024-05-15T04:06:01.769368Z",
     "shell.execute_reply.started": "2024-05-15T04:06:01.760945Z"
    }
   },
   "source": [
    "<a id='Header2'></a>\n",
    "<h1 style=\"color:#E4DEBE; background-color:#183318; padding: 20px 0; text-align: left; font-weight: bold; padding-left: 20px;\">IX. RESULTS AND DISCUSSION</h1><a id='ExecSum'></a><a id='Title'></a><a"
   ]
  },
  {
   "cell_type": "markdown",
   "id": "500106d5-9125-40d7-9863-c0334b6102b9",
   "metadata": {
    "execution": {
     "iopub.execute_input": "2024-05-15T07:27:36.520512Z",
     "iopub.status.busy": "2024-05-15T07:27:36.519788Z",
     "iopub.status.idle": "2024-05-15T07:27:36.533966Z",
     "shell.execute_reply": "2024-05-15T07:27:36.532342Z",
     "shell.execute_reply.started": "2024-05-15T07:27:36.520445Z"
    },
    "jp-MarkdownHeadingCollapsed": true
   },
   "source": [
    "### Results\n",
    "\n",
    "Visualizations\n",
    "- Interactive Charts and Maps\n",
    "\n",
    "Created interactive charts and maps displaying global duck population distributions. These visualizations effectively highlight the geographical spread and density of different duck species.\n",
    "\n",
    "- The visualizations illustrate the seasonal migration patterns of the selected duck species. During winter season, most duck species are absent from the north of the map, while in the summer, they are more widely distributed across northern breeding grounds.\n",
    "\n",
    "### Discussion\n",
    "\n",
    "- The visualizations show that Canada is an especially good place to see ducks in the summer, and Mexico in the winter. They can also be seen much year round in the United States, especially the Eastern United States.\n",
    "\n",
    "- The fact that even duck species known to be migratory species seem to be constantly present in certain areas such as the US is a possible cause for concern--when migratory animals stop migrating, it is sometimes due to climate change or human intervention (such as when animals settle in areas where they are being fed). For example, there's a population of birds that has stopped migrating \"as rubbish dumps provide winter feeding grounds\" (Sample, 2016). This behavior can disrupt ecosystems and impact local biodiversity.\n",
    "\n"
   ]
  },
  {
   "cell_type": "markdown",
   "id": "6e7fa9cf-0b7f-4469-b54d-e1cae902f26a",
   "metadata": {},
   "source": [
    "<a id='Header2'></a>\n",
    "<h1 style=\"color:#E4DEBE; background-color:#183318; padding: 20px 0; text-align: left; font-weight: bold; padding-left: 20px;\">X. CONCLUSION</h1><a id='ExecSum'></a><a id='Title'></a><a"
   ]
  },
  {
   "cell_type": "markdown",
   "id": "7a9bc432-5c20-44fd-8023-2b6d9699d368",
   "metadata": {},
   "source": [
    "Overall, this study demonstrates the value of large-scale citizen science data in ornithological research. The insights gained from this analysis not only contribute to our understanding of avian ecology but also support biodiversity conservation efforts by identifying important areas for preservation and management. Future research can build on this work by incorporating additional environmental variables and extending the analysis to other bird species, further enriching our knowledge of avian migration and ecology."
   ]
  },
  {
   "cell_type": "markdown",
   "id": "7aae2c89-a150-4c7a-9eb8-c7b6a428fc52",
   "metadata": {
    "execution": {
     "iopub.execute_input": "2024-05-15T04:06:55.390336Z",
     "iopub.status.busy": "2024-05-15T04:06:55.389697Z",
     "iopub.status.idle": "2024-05-15T04:06:55.400458Z",
     "shell.execute_reply": "2024-05-15T04:06:55.398583Z",
     "shell.execute_reply.started": "2024-05-15T04:06:55.390281Z"
    }
   },
   "source": [
    "<a id='Header2'></a>\n",
    "<h1 style=\"color:#E4DEBE; background-color:#183318; padding: 20px 0; text-align: left; font-weight: bold; padding-left: 20px;\">XI. LIMITATIONS AND RECOMMENDATIONS</h1><a id='ExecSum'></a><a id='Title'></a><a"
   ]
  },
  {
   "cell_type": "markdown",
   "id": "b09d8d62-8a57-4086-babd-2f33b554168b",
   "metadata": {},
   "source": [
    "### A. Limitations\n",
    "\n",
    "1. Data Biases\n",
    "   - The eBird data is based on citizen science contributions, which may introduce biases due to uneven observation efforts across different regions and times. \n",
    "   - There may be gaps in the dataset, particularly in remote or less accessible areas where fewer observations are recorded.\n",
    "\n",
    "### B. Recommendations\n",
    "\n",
    "1. Enhanced Data Collection\n",
    "   - Encourage more consistent and widespread participation in bird observation programs to reduce data gaps and biases.\n",
    "   - Integrate additional data sources, such as satellite tracking and habitat quality assessments, to complement citizen science data.\n",
    "\n",
    "2. Conservation Strategies\n",
    "   - Protect critical stopover sites identified in the study to ensure ducks have safe resting and refueling areas during migration.\n",
    "\n",
    "3. Further Research\n",
    "   - Conduct species-specific studies to understand unique ecological requirements and threats faced by different duck species.\n",
    "   - Investigate the impacts of climate change on migration timing and routes to predict future changes and plan conservation efforts accordingly."
   ]
  },
  {
   "cell_type": "markdown",
   "id": "72f74804-ef10-4e0b-83d8-3bbebe3b727e",
   "metadata": {},
   "source": [
    "<a id='Header2'></a>\n",
    "<h1 style=\"color:#E4DEBE; background-color:#183318; padding: 20px 0; text-align: left; font-weight: bold; padding-left: 20px;\">XII. REFERENCES</h1><a"
   ]
  },
  {
   "cell_type": "markdown",
   "id": "5893e6ae-7ad7-4b94-bd62-bd46b1355920",
   "metadata": {
    "execution": {
     "iopub.execute_input": "2024-05-15T09:44:08.143992Z",
     "iopub.status.busy": "2024-05-15T09:44:08.143320Z",
     "iopub.status.idle": "2024-05-15T09:44:08.153548Z",
     "shell.execute_reply": "2024-05-15T09:44:08.151878Z",
     "shell.execute_reply.started": "2024-05-15T09:44:08.143929Z"
    }
   },
   "source": [
    "Birdfact. (2022, January 16). *Do Ducks Migrate (All You Need To Know)*. Bird Fact. https://birdfact.com/articles/do-ducks-migrate"
   ]
  },
  {
   "cell_type": "markdown",
   "id": "c4389c39-13bd-43a3-ac2c-a1410fcfefee",
   "metadata": {
    "execution": {
     "iopub.execute_input": "2024-05-15T09:45:08.072993Z",
     "iopub.status.busy": "2024-05-15T09:45:08.072332Z",
     "iopub.status.idle": "2024-05-15T09:45:08.082280Z",
     "shell.execute_reply": "2024-05-15T09:45:08.080651Z",
     "shell.execute_reply.started": "2024-05-15T09:45:08.072936Z"
    }
   },
   "source": [
    "Sample, I. (2016, January 22). Birds stop migrating as rubbish dumps provide winter feeding grounds. *The Guardian.* https://www.theguardian.com/science/2016/jan/22/birds-stop-migrating-as-rubbish-dumps-provide-winter-feeding-grounds"
   ]
  },
  {
   "cell_type": "markdown",
   "id": "644ddc2b-fef8-4d86-bc57-b0e707dc82e4",
   "metadata": {
    "execution": {
     "iopub.execute_input": "2024-05-15T09:46:00.764710Z",
     "iopub.status.busy": "2024-05-15T09:46:00.763600Z",
     "iopub.status.idle": "2024-05-15T09:46:00.774302Z",
     "shell.execute_reply": "2024-05-15T09:46:00.772616Z",
     "shell.execute_reply.started": "2024-05-15T09:46:00.764650Z"
    }
   },
   "source": [
    "Wikipedia Contributors. (2019, May 1). *Duck*. Wikipedia; Wikimedia Foundation. https://en.wikipedia.org/wiki/Duck"
   ]
  },
  {
   "cell_type": "code",
   "execution_count": null,
   "id": "3bec14aa-a145-4806-bce1-09c100c8f463",
   "metadata": {},
   "outputs": [],
   "source": []
  }
 ],
 "metadata": {
  "kernelspec": {
   "display_name": "Python 3 (ipykernel)",
   "language": "python",
   "name": "python3"
  },
  "language_info": {
   "codemirror_mode": {
    "name": "ipython",
    "version": 3
   },
   "file_extension": ".py",
   "mimetype": "text/x-python",
   "name": "python",
   "nbconvert_exporter": "python",
   "pygments_lexer": "ipython3",
   "version": "3.11.8"
  }
 },
 "nbformat": 4,
 "nbformat_minor": 5
}
